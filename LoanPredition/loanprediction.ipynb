{
 "cells": [
  {
   "cell_type": "code",
   "execution_count": 1,
   "metadata": {
    "_cell_guid": "b1076dfc-b9ad-4769-8c92-a6c4dae69d19",
    "_uuid": "8f2839f25d086af736a60e9eeb907d3b93b6e0e5"
   },
   "outputs": [
    {
     "name": "stdout",
     "output_type": "stream",
     "text": [
      "/kaggle/input/loanprediction/test_lAUu6dG.csv\n",
      "/kaggle/input/loanprediction/train_ctrUa4K.csv\n"
     ]
    }
   ],
   "source": [
    "# This Python 3 environment comes with many helpful analytics libraries installed\n",
    "# It is defined by the kaggle/python docker image: https://github.com/kaggle/docker-python\n",
    "# For example, here's several helpful packages to load in \n",
    "\n",
    "import numpy as np # linear algebra\n",
    "import pandas as pd # data processing, CSV file I/O (e.g. pd.read_csv)\n",
    "import matplotlib.pyplot as plt\n",
    "\n",
    "# Input data files are available in the \"../input/\" directory.\n",
    "# For example, running this (by clicking run or pressing Shift+Enter) will list all files under the input directory\n",
    "\n",
    "import os\n",
    "for dirname, _, filenames in os.walk('/kaggle/input'):\n",
    "    for filename in filenames:\n",
    "        print(os.path.join(dirname, filename))\n",
    "\n",
    "# Any results you write to the current directory are saved as output."
   ]
  },
  {
   "cell_type": "code",
   "execution_count": 2,
   "metadata": {},
   "outputs": [],
   "source": [
    "# import the modules we'll need\n",
    "from IPython.display import HTML\n",
    "import base64\n",
    "\n",
    "# function that takes in a dataframe and creates a text link to  \n",
    "# download it (will only work for files < 2MB or so)\n",
    "def create_download_link(df, title = \"Download CSV file\", filename = \"data.csv\"):  \n",
    "    csv = df.to_csv(index = False)\n",
    "    b64 = base64.b64encode(csv.encode())\n",
    "    payload = b64.decode()\n",
    "    html = '<a download=\"{filename}\" href=\"data:text/csv;base64,{payload}\" target=\"_blank\">{title}</a>'\n",
    "    html = html.format(payload=payload,title=title,filename=filename)\n",
    "    return HTML(html)"
   ]
  },
  {
   "cell_type": "code",
   "execution_count": 3,
   "metadata": {
    "_cell_guid": "",
    "_uuid": ""
   },
   "outputs": [],
   "source": [
    "\n",
    "test = pd.read_csv(\"../input/loanprediction/test_lAUu6dG.csv\")\n",
    "train = pd.read_csv(\"../input/loanprediction/train_ctrUa4K.csv\")"
   ]
  },
  {
   "cell_type": "markdown",
   "metadata": {},
   "source": [
    "**1. Understanding Data**"
   ]
  },
  {
   "cell_type": "code",
   "execution_count": 4,
   "metadata": {},
   "outputs": [
    {
     "data": {
      "text/html": [
       "<div>\n",
       "<style scoped>\n",
       "    .dataframe tbody tr th:only-of-type {\n",
       "        vertical-align: middle;\n",
       "    }\n",
       "\n",
       "    .dataframe tbody tr th {\n",
       "        vertical-align: top;\n",
       "    }\n",
       "\n",
       "    .dataframe thead th {\n",
       "        text-align: right;\n",
       "    }\n",
       "</style>\n",
       "<table border=\"1\" class=\"dataframe\">\n",
       "  <thead>\n",
       "    <tr style=\"text-align: right;\">\n",
       "      <th></th>\n",
       "      <th>Loan_ID</th>\n",
       "      <th>Gender</th>\n",
       "      <th>Married</th>\n",
       "      <th>Dependents</th>\n",
       "      <th>Education</th>\n",
       "      <th>Self_Employed</th>\n",
       "      <th>ApplicantIncome</th>\n",
       "      <th>CoapplicantIncome</th>\n",
       "      <th>LoanAmount</th>\n",
       "      <th>Loan_Amount_Term</th>\n",
       "      <th>Credit_History</th>\n",
       "      <th>Property_Area</th>\n",
       "      <th>Loan_Status</th>\n",
       "    </tr>\n",
       "  </thead>\n",
       "  <tbody>\n",
       "    <tr>\n",
       "      <th>0</th>\n",
       "      <td>LP001002</td>\n",
       "      <td>Male</td>\n",
       "      <td>No</td>\n",
       "      <td>0</td>\n",
       "      <td>Graduate</td>\n",
       "      <td>No</td>\n",
       "      <td>5849</td>\n",
       "      <td>0.0</td>\n",
       "      <td>NaN</td>\n",
       "      <td>360.0</td>\n",
       "      <td>1.0</td>\n",
       "      <td>Urban</td>\n",
       "      <td>Y</td>\n",
       "    </tr>\n",
       "    <tr>\n",
       "      <th>1</th>\n",
       "      <td>LP001003</td>\n",
       "      <td>Male</td>\n",
       "      <td>Yes</td>\n",
       "      <td>1</td>\n",
       "      <td>Graduate</td>\n",
       "      <td>No</td>\n",
       "      <td>4583</td>\n",
       "      <td>1508.0</td>\n",
       "      <td>128.0</td>\n",
       "      <td>360.0</td>\n",
       "      <td>1.0</td>\n",
       "      <td>Rural</td>\n",
       "      <td>N</td>\n",
       "    </tr>\n",
       "    <tr>\n",
       "      <th>2</th>\n",
       "      <td>LP001005</td>\n",
       "      <td>Male</td>\n",
       "      <td>Yes</td>\n",
       "      <td>0</td>\n",
       "      <td>Graduate</td>\n",
       "      <td>Yes</td>\n",
       "      <td>3000</td>\n",
       "      <td>0.0</td>\n",
       "      <td>66.0</td>\n",
       "      <td>360.0</td>\n",
       "      <td>1.0</td>\n",
       "      <td>Urban</td>\n",
       "      <td>Y</td>\n",
       "    </tr>\n",
       "    <tr>\n",
       "      <th>3</th>\n",
       "      <td>LP001006</td>\n",
       "      <td>Male</td>\n",
       "      <td>Yes</td>\n",
       "      <td>0</td>\n",
       "      <td>Not Graduate</td>\n",
       "      <td>No</td>\n",
       "      <td>2583</td>\n",
       "      <td>2358.0</td>\n",
       "      <td>120.0</td>\n",
       "      <td>360.0</td>\n",
       "      <td>1.0</td>\n",
       "      <td>Urban</td>\n",
       "      <td>Y</td>\n",
       "    </tr>\n",
       "    <tr>\n",
       "      <th>4</th>\n",
       "      <td>LP001008</td>\n",
       "      <td>Male</td>\n",
       "      <td>No</td>\n",
       "      <td>0</td>\n",
       "      <td>Graduate</td>\n",
       "      <td>No</td>\n",
       "      <td>6000</td>\n",
       "      <td>0.0</td>\n",
       "      <td>141.0</td>\n",
       "      <td>360.0</td>\n",
       "      <td>1.0</td>\n",
       "      <td>Urban</td>\n",
       "      <td>Y</td>\n",
       "    </tr>\n",
       "  </tbody>\n",
       "</table>\n",
       "</div>"
      ],
      "text/plain": [
       "    Loan_ID Gender Married Dependents     Education Self_Employed  \\\n",
       "0  LP001002   Male      No          0      Graduate            No   \n",
       "1  LP001003   Male     Yes          1      Graduate            No   \n",
       "2  LP001005   Male     Yes          0      Graduate           Yes   \n",
       "3  LP001006   Male     Yes          0  Not Graduate            No   \n",
       "4  LP001008   Male      No          0      Graduate            No   \n",
       "\n",
       "   ApplicantIncome  CoapplicantIncome  LoanAmount  Loan_Amount_Term  \\\n",
       "0             5849                0.0         NaN             360.0   \n",
       "1             4583             1508.0       128.0             360.0   \n",
       "2             3000                0.0        66.0             360.0   \n",
       "3             2583             2358.0       120.0             360.0   \n",
       "4             6000                0.0       141.0             360.0   \n",
       "\n",
       "   Credit_History Property_Area Loan_Status  \n",
       "0             1.0         Urban           Y  \n",
       "1             1.0         Rural           N  \n",
       "2             1.0         Urban           Y  \n",
       "3             1.0         Urban           Y  \n",
       "4             1.0         Urban           Y  "
      ]
     },
     "execution_count": 4,
     "metadata": {},
     "output_type": "execute_result"
    }
   ],
   "source": [
    "train.head()"
   ]
  },
  {
   "cell_type": "markdown",
   "metadata": {},
   "source": [
    "1.1 Univariate Analysis"
   ]
  },
  {
   "cell_type": "code",
   "execution_count": 5,
   "metadata": {},
   "outputs": [
    {
     "data": {
      "image/png": "[encoded data removed]",
      "text/plain": [
       "<Figure size 1440x720 with 4 Axes>"
      ]
     },
     "metadata": {
      "needs_background": "light"
     },
     "output_type": "display_data"
    }
   ],
   "source": [
    "#Catergorical Variables\n",
    "plt.figure(1) \n",
    "plt.subplot(221) \n",
    "train['Gender'].value_counts(normalize=True).plot.bar(figsize=(20,10), title= 'Gender') \n",
    "plt.subplot(222) \n",
    "train['Married'].value_counts(normalize=True).plot.bar(title= 'Married') \n",
    "plt.subplot(223) \n",
    "train['Self_Employed'].value_counts(normalize=True).plot.bar(title= 'Self_Employed') \n",
    "plt.subplot(224) \n",
    "train['Credit_History'].value_counts(normalize=True).plot.bar(title= 'Credit_History') \n",
    "plt.show()"
   ]
  },
  {
   "cell_type": "code",
   "execution_count": 6,
   "metadata": {},
   "outputs": [
    {
     "data": {
      "text/plain": [
       "<matplotlib.axes._subplots.AxesSubplot at 0x7f3893b30c88>"
      ]
     },
     "execution_count": 6,
     "metadata": {},
     "output_type": "execute_result"
    },
    {
     "data": {
      "image/png": "[encoded data removed]",
      "text/plain": [
       "<Figure size 1728x432 with 3 Axes>"
      ]
     },
     "metadata": {
      "needs_background": "light"
     },
     "output_type": "display_data"
    }
   ],
   "source": [
    "#Ordinal Variables\n",
    "plt.figure(1)\n",
    "plt.subplot(131)\n",
    "train['Dependents'].value_counts().plot.bar(figsize=(24,6), title= 'Dependents') \n",
    "plt.subplot(132)\n",
    "train['Education'].value_counts().plot.bar(figsize=(24,6), title= 'Education') \n",
    "plt.subplot(133)\n",
    "train['Property_Area'].value_counts().plot.bar(figsize=(24,6), title= 'Property_Area') "
   ]
  },
  {
   "cell_type": "code",
   "execution_count": 7,
   "metadata": {},
   "outputs": [
    {
     "data": {
      "text/plain": [
       "<matplotlib.axes._subplots.AxesSubplot at 0x7f3893a56e80>"
      ]
     },
     "execution_count": 7,
     "metadata": {},
     "output_type": "execute_result"
    },
    {
     "data": {
      "image/png": "[encoded data removed]",
      "text/plain": [
       "<Figure size 1728x432 with 3 Axes>"
      ]
     },
     "metadata": {
      "needs_background": "light"
     },
     "output_type": "display_data"
    }
   ],
   "source": [
    "#Quantitative Variables\n",
    "plt.figure(1)\n",
    "plt.subplot(131)\n",
    "train['ApplicantIncome'].value_counts().plot.hist(figsize=(24,6), title= 'ApplicantIncome') \n",
    "plt.subplot(132)\n",
    "train['LoanAmount'].value_counts().plot.hist(figsize=(24,6), title= 'LoanAmount') \n",
    "plt.subplot(133)\n",
    "train['CoapplicantIncome'].value_counts().plot.hist(figsize=(24,6), title= 'CoapplicantIncome') "
   ]
  },
  {
   "cell_type": "markdown",
   "metadata": {},
   "source": [
    "1.2 Bivariate Analysis "
   ]
  },
  {
   "cell_type": "code",
   "execution_count": 8,
   "metadata": {},
   "outputs": [
    {
     "data": {
      "image/png": "[encoded data removed]",
      "text/plain": [
       "<Figure size 288x288 with 1 Axes>"
      ]
     },
     "metadata": {
      "needs_background": "light"
     },
     "output_type": "display_data"
    },
    {
     "data": {
      "image/png": "[encoded data removed]",
      "text/plain": [
       "<Figure size 288x288 with 1 Axes>"
      ]
     },
     "metadata": {
      "needs_background": "light"
     },
     "output_type": "display_data"
    },
    {
     "data": {
      "image/png": "[encoded data removed]",
      "text/plain": [
       "<Figure size 288x288 with 1 Axes>"
      ]
     },
     "metadata": {
      "needs_background": "light"
     },
     "output_type": "display_data"
    },
    {
     "data": {
      "image/png": "[encoded data removed]",
      "text/plain": [
       "<Figure size 288x288 with 1 Axes>"
      ]
     },
     "metadata": {
      "needs_background": "light"
     },
     "output_type": "display_data"
    },
    {
     "data": {
      "image/png": "[encoded data removed]",
      "text/plain": [
       "<Figure size 288x288 with 1 Axes>"
      ]
     },
     "metadata": {
      "needs_background": "light"
     },
     "output_type": "display_data"
    },
    {
     "data": {
      "image/png": "[encoded data removed]",
      "text/plain": [
       "<Figure size 288x288 with 1 Axes>"
      ]
     },
     "metadata": {
      "needs_background": "light"
     },
     "output_type": "display_data"
    },
    {
     "data": {
      "image/png": "[encoded data removed]",
      "text/plain": [
       "<Figure size 288x288 with 1 Axes>"
      ]
     },
     "metadata": {
      "needs_background": "light"
     },
     "output_type": "display_data"
    }
   ],
   "source": [
    "#Catergorical Variables \n",
    "cat_var = ['Gender','Married','Self_Employed','Credit_History','Dependents','Education','Property_Area']\n",
    "for col in cat_var:\n",
    "    Gender=pd.crosstab(train[col],train['Loan_Status']) \n",
    "    Gender.div(Gender.sum(1).astype(float), axis=0).plot(kind=\"bar\", stacked=True, figsize=(4,4))\n",
    "    plt.show()"
   ]
  },
  {
   "cell_type": "code",
   "execution_count": 9,
   "metadata": {},
   "outputs": [
    {
     "data": {
      "image/png": "[encoded data removed]",
      "text/plain": [
       "<Figure size 432x288 with 1 Axes>"
      ]
     },
     "metadata": {
      "needs_background": "light"
     },
     "output_type": "display_data"
    },
    {
     "data": {
      "image/png": "[encoded data removed]",
      "text/plain": [
       "<Figure size 432x288 with 1 Axes>"
      ]
     },
     "metadata": {
      "needs_background": "light"
     },
     "output_type": "display_data"
    },
    {
     "data": {
      "image/png": "[encoded data removed]",
      "text/plain": [
       "<Figure size 432x288 with 1 Axes>"
      ]
     },
     "metadata": {
      "needs_background": "light"
     },
     "output_type": "display_data"
    }
   ],
   "source": [
    "quant_arr = ['ApplicantIncome','LoanAmount','CoapplicantIncome']\n",
    "for col in quant_arr:\n",
    "    train.groupby('Loan_Status')[col].mean().plot.bar()\n",
    "    plt.xlabel(col)\n",
    "    plt.show()"
   ]
  },
  {
   "cell_type": "code",
   "execution_count": 10,
   "metadata": {},
   "outputs": [
    {
     "data": {
      "text/html": [
       "<div>\n",
       "<style scoped>\n",
       "    .dataframe tbody tr th:only-of-type {\n",
       "        vertical-align: middle;\n",
       "    }\n",
       "\n",
       "    .dataframe tbody tr th {\n",
       "        vertical-align: top;\n",
       "    }\n",
       "\n",
       "    .dataframe thead th {\n",
       "        text-align: right;\n",
       "    }\n",
       "</style>\n",
       "<table border=\"1\" class=\"dataframe\">\n",
       "  <thead>\n",
       "    <tr style=\"text-align: right;\">\n",
       "      <th></th>\n",
       "      <th>ApplicantIncome</th>\n",
       "      <th>CoapplicantIncome</th>\n",
       "      <th>LoanAmount</th>\n",
       "      <th>Loan_Amount_Term</th>\n",
       "      <th>Credit_History</th>\n",
       "    </tr>\n",
       "  </thead>\n",
       "  <tbody>\n",
       "    <tr>\n",
       "      <th>ApplicantIncome</th>\n",
       "      <td>1.000000</td>\n",
       "      <td>-0.116605</td>\n",
       "      <td>0.570909</td>\n",
       "      <td>-0.045306</td>\n",
       "      <td>-0.014715</td>\n",
       "    </tr>\n",
       "    <tr>\n",
       "      <th>CoapplicantIncome</th>\n",
       "      <td>-0.116605</td>\n",
       "      <td>1.000000</td>\n",
       "      <td>0.188619</td>\n",
       "      <td>-0.059878</td>\n",
       "      <td>-0.002056</td>\n",
       "    </tr>\n",
       "    <tr>\n",
       "      <th>LoanAmount</th>\n",
       "      <td>0.570909</td>\n",
       "      <td>0.188619</td>\n",
       "      <td>1.000000</td>\n",
       "      <td>0.039447</td>\n",
       "      <td>-0.008433</td>\n",
       "    </tr>\n",
       "    <tr>\n",
       "      <th>Loan_Amount_Term</th>\n",
       "      <td>-0.045306</td>\n",
       "      <td>-0.059878</td>\n",
       "      <td>0.039447</td>\n",
       "      <td>1.000000</td>\n",
       "      <td>0.001470</td>\n",
       "    </tr>\n",
       "    <tr>\n",
       "      <th>Credit_History</th>\n",
       "      <td>-0.014715</td>\n",
       "      <td>-0.002056</td>\n",
       "      <td>-0.008433</td>\n",
       "      <td>0.001470</td>\n",
       "      <td>1.000000</td>\n",
       "    </tr>\n",
       "  </tbody>\n",
       "</table>\n",
       "</div>"
      ],
      "text/plain": [
       "                   ApplicantIncome  CoapplicantIncome  LoanAmount  \\\n",
       "ApplicantIncome           1.000000          -0.116605    0.570909   \n",
       "CoapplicantIncome        -0.116605           1.000000    0.188619   \n",
       "LoanAmount                0.570909           0.188619    1.000000   \n",
       "Loan_Amount_Term         -0.045306          -0.059878    0.039447   \n",
       "Credit_History           -0.014715          -0.002056   -0.008433   \n",
       "\n",
       "                   Loan_Amount_Term  Credit_History  \n",
       "ApplicantIncome           -0.045306       -0.014715  \n",
       "CoapplicantIncome         -0.059878       -0.002056  \n",
       "LoanAmount                 0.039447       -0.008433  \n",
       "Loan_Amount_Term           1.000000        0.001470  \n",
       "Credit_History             0.001470        1.000000  "
      ]
     },
     "execution_count": 10,
     "metadata": {},
     "output_type": "execute_result"
    }
   ],
   "source": [
    "train.corr()"
   ]
  },
  {
   "cell_type": "code",
   "execution_count": 11,
   "metadata": {},
   "outputs": [],
   "source": [
    "def survival_stacked_bar(variable):\n",
    "    approved=train[train[\"Loan_Status\"]==1][variable].value_counts()/len(train[\"Loan_Status\"]==1)\n",
    "    NotApproved=train[train[\"Loan_Status\"]==0][variable].value_counts()/len(train[\"Loan_Status\"]==0)\n",
    "    data=pd.DataFrame([approved,NotApproved])\n",
    "    data.index=[\"Approved\",\"NotApproved\"]\n",
    "    data.plot(kind=\"bar\",stacked=True,title=\"Percentage\")\n",
    "    return data.head()"
   ]
  },
  {
   "cell_type": "markdown",
   "metadata": {},
   "source": [
    "**2. Data Cleaning and Processing **\n",
    "\n",
    "2. 1 Dealing with missing Data"
   ]
  },
  {
   "cell_type": "code",
   "execution_count": 12,
   "metadata": {},
   "outputs": [
    {
     "name": "stdout",
     "output_type": "stream",
     "text": [
      "Loan_ID\n",
      "False    614\n",
      "Name: Loan_ID, dtype: int64\n",
      "\n",
      "Gender\n",
      "False    601\n",
      "True      13\n",
      "Name: Gender, dtype: int64\n",
      "\n",
      "Married\n",
      "False    611\n",
      "True       3\n",
      "Name: Married, dtype: int64\n",
      "\n",
      "Dependents\n",
      "False    599\n",
      "True      15\n",
      "Name: Dependents, dtype: int64\n",
      "\n",
      "Education\n",
      "False    614\n",
      "Name: Education, dtype: int64\n",
      "\n",
      "Self_Employed\n",
      "False    582\n",
      "True      32\n",
      "Name: Self_Employed, dtype: int64\n",
      "\n",
      "ApplicantIncome\n",
      "False    614\n",
      "Name: ApplicantIncome, dtype: int64\n",
      "\n",
      "CoapplicantIncome\n",
      "False    614\n",
      "Name: CoapplicantIncome, dtype: int64\n",
      "\n",
      "LoanAmount\n",
      "False    592\n",
      "True      22\n",
      "Name: LoanAmount, dtype: int64\n",
      "\n",
      "Loan_Amount_Term\n",
      "False    600\n",
      "True      14\n",
      "Name: Loan_Amount_Term, dtype: int64\n",
      "\n",
      "Credit_History\n",
      "False    564\n",
      "True      50\n",
      "Name: Credit_History, dtype: int64\n",
      "\n",
      "Property_Area\n",
      "False    614\n",
      "Name: Property_Area, dtype: int64\n",
      "\n",
      "Loan_Status\n",
      "False    614\n",
      "Name: Loan_Status, dtype: int64\n",
      "\n"
     ]
    }
   ],
   "source": [
    "missing_data = train.isnull()\n",
    "for column in missing_data.columns.values.tolist():\n",
    "    print(column)\n",
    "    print(missing_data[column].value_counts())\n",
    "    print(\"\")"
   ]
  },
  {
   "cell_type": "code",
   "execution_count": 13,
   "metadata": {},
   "outputs": [],
   "source": [
    "def replceWithMode(array,data):\n",
    "    for col in array: \n",
    "        data[col].replace(np.nan,data[col].mode()[0],inplace = True)\n",
    "mode_array = ['Self_Employed','Dependents','Credit_History','Loan_Amount_Term','Married','Gender']\n",
    "replceWithMode(mode_array,train)\n",
    "replceWithMode(mode_array,test)\n",
    "\n",
    "train['LoanAmount'].fillna(train['LoanAmount'].median(), inplace=True)\n",
    "test['LoanAmount'].fillna(test['LoanAmount'].median(), inplace=True)"
   ]
  },
  {
   "cell_type": "markdown",
   "metadata": {},
   "source": [
    "2.2 Treating Outliers"
   ]
  },
  {
   "cell_type": "code",
   "execution_count": 14,
   "metadata": {},
   "outputs": [
    {
     "data": {
      "image/png": "[encoded data removed]",
      "text/plain": [
       "<Figure size 432x288 with 1 Axes>"
      ]
     },
     "metadata": {
      "needs_background": "light"
     },
     "output_type": "display_data"
    }
   ],
   "source": [
    "train['LoanAmount_log'] = np.log(train['LoanAmount']+1) \n",
    "train['LoanAmount_log'].hist(bins=20) \n",
    "test['LoanAmount_log'] = np.log(test['LoanAmount']+1)"
   ]
  },
  {
   "cell_type": "markdown",
   "metadata": {},
   "source": [
    "**3. Feature Engineering**"
   ]
  },
  {
   "cell_type": "code",
   "execution_count": 15,
   "metadata": {},
   "outputs": [],
   "source": [
    "train[\"Loan_Amount_Term\"] = train[\"Loan_Amount_Term\"]/12\n",
    "test[\"Loan_Amount_Term\"] = test[\"Loan_Amount_Term\"]/12"
   ]
  },
  {
   "cell_type": "code",
   "execution_count": 16,
   "metadata": {},
   "outputs": [],
   "source": [
    "#Creating total income with applicants income and coapplicants income \n",
    "train['Total_Income']=train['ApplicantIncome']+train['CoapplicantIncome'] \n",
    "test['Total_Income']=test['ApplicantIncome']+test['CoapplicantIncome']\n",
    "\n",
    "train['Total_Income_log'] = np.log(train['Total_Income']+1)\n",
    "test['Total_Income_log'] = np.log(test['Total_Income']+1)"
   ]
  },
  {
   "cell_type": "code",
   "execution_count": 17,
   "metadata": {},
   "outputs": [],
   "source": [
    "train['LoanAmount_log'] = np.log(train['LoanAmount']*1000+1)\n",
    "test['LoanAmount_log'] = np.log(test['LoanAmount']*1000+1)"
   ]
  },
  {
   "cell_type": "code",
   "execution_count": 18,
   "metadata": {},
   "outputs": [],
   "source": [
    "#Creating EMI\n",
    "train['EMI']=train['LoanAmount']/train['Loan_Amount_Term'] \n",
    "test['EMI']=test['LoanAmount']/test['Loan_Amount_Term'] \n"
   ]
  },
  {
   "cell_type": "code",
   "execution_count": 19,
   "metadata": {},
   "outputs": [
    {
     "data": {
      "text/plain": [
       "0      4.266667\n",
       "1      4.266667\n",
       "2      2.200000\n",
       "3      4.000000\n",
       "4      4.700000\n",
       "         ...   \n",
       "609    2.366667\n",
       "610    2.666667\n",
       "611    8.433333\n",
       "612    6.233333\n",
       "613    4.433333\n",
       "Name: EMI, Length: 614, dtype: float64"
      ]
     },
     "execution_count": 19,
     "metadata": {},
     "output_type": "execute_result"
    }
   ],
   "source": [
    "train['EMI']"
   ]
  },
  {
   "cell_type": "code",
   "execution_count": 20,
   "metadata": {},
   "outputs": [],
   "source": [
    "train['Balance Income']=train['Total_Income']-(train['EMI']*1000) \n",
    "test['Balance Income']=test['Total_Income']-(test['EMI']*1000)"
   ]
  },
  {
   "cell_type": "code",
   "execution_count": 21,
   "metadata": {},
   "outputs": [],
   "source": [
    "#train=train.drop(['ApplicantIncome', 'CoapplicantIncome', 'LoanAmount', 'Loan_Amount_Term'], axis=1) \n",
    "#test=test.drop(['ApplicantIncome', 'CoapplicantIncome', 'LoanAmount', 'Loan_Amount_Term'], axis=1)"
   ]
  },
  {
   "cell_type": "markdown",
   "metadata": {},
   "source": [
    "**4. Dealing with Categorical Data**"
   ]
  },
  {
   "cell_type": "code",
   "execution_count": 22,
   "metadata": {},
   "outputs": [],
   "source": [
    "#Binary Data\n",
    "loan_map = {'Y':1,'N':0}\n",
    "train['Loan_Status'] = train['Loan_Status'].map(loan_map)"
   ]
  },
  {
   "cell_type": "code",
   "execution_count": 23,
   "metadata": {},
   "outputs": [],
   "source": [
    "train[['Loan_Status']] = train[['Loan_Status']].apply(pd.to_numeric)\n",
    "train['Dependents'].replace('3+',3,inplace = True)\n",
    "test['Dependents'].replace('3+',3,inplace = True)\n",
    "train[['Dependents']] = train[['Dependents']].apply(pd.to_numeric)\n",
    "test[['Dependents']] = test[['Dependents']].apply(pd.to_numeric)"
   ]
  },
  {
   "cell_type": "code",
   "execution_count": 24,
   "metadata": {},
   "outputs": [],
   "source": [
    "X = train.drop([\"Loan_Status\"],axis=1)\n",
    "X = X.drop([\"Loan_ID\"],axis=1)\n",
    "\n",
    "#X = pd.get_dummies(X)\n",
    "colnames = ['Gender','Married','Education','Self_Employed','Property_Area']\n",
    "for col in colnames:\n",
    "    X[col] = pd.factorize(X[col])[0]\n",
    "y = train[['Loan_Status']]"
   ]
  },
  {
   "cell_type": "code",
   "execution_count": 25,
   "metadata": {},
   "outputs": [
    {
     "data": {
      "text/html": [
       "<div>\n",
       "<style scoped>\n",
       "    .dataframe tbody tr th:only-of-type {\n",
       "        vertical-align: middle;\n",
       "    }\n",
       "\n",
       "    .dataframe tbody tr th {\n",
       "        vertical-align: top;\n",
       "    }\n",
       "\n",
       "    .dataframe thead th {\n",
       "        text-align: right;\n",
       "    }\n",
       "</style>\n",
       "<table border=\"1\" class=\"dataframe\">\n",
       "  <thead>\n",
       "    <tr style=\"text-align: right;\">\n",
       "      <th></th>\n",
       "      <th>Gender</th>\n",
       "      <th>Married</th>\n",
       "      <th>Dependents</th>\n",
       "      <th>Education</th>\n",
       "      <th>Self_Employed</th>\n",
       "      <th>ApplicantIncome</th>\n",
       "      <th>CoapplicantIncome</th>\n",
       "      <th>LoanAmount</th>\n",
       "      <th>Loan_Amount_Term</th>\n",
       "      <th>Credit_History</th>\n",
       "      <th>Property_Area</th>\n",
       "      <th>LoanAmount_log</th>\n",
       "      <th>Total_Income</th>\n",
       "      <th>Total_Income_log</th>\n",
       "      <th>EMI</th>\n",
       "      <th>Balance Income</th>\n",
       "    </tr>\n",
       "  </thead>\n",
       "  <tbody>\n",
       "    <tr>\n",
       "      <th>0</th>\n",
       "      <td>0</td>\n",
       "      <td>0</td>\n",
       "      <td>0</td>\n",
       "      <td>0</td>\n",
       "      <td>0</td>\n",
       "      <td>5720</td>\n",
       "      <td>0</td>\n",
       "      <td>110.0</td>\n",
       "      <td>30.0</td>\n",
       "      <td>1.0</td>\n",
       "      <td>0</td>\n",
       "      <td>11.608245</td>\n",
       "      <td>5720</td>\n",
       "      <td>8.651899</td>\n",
       "      <td>3.666667</td>\n",
       "      <td>2053.333333</td>\n",
       "    </tr>\n",
       "    <tr>\n",
       "      <th>1</th>\n",
       "      <td>0</td>\n",
       "      <td>0</td>\n",
       "      <td>1</td>\n",
       "      <td>0</td>\n",
       "      <td>0</td>\n",
       "      <td>3076</td>\n",
       "      <td>1500</td>\n",
       "      <td>126.0</td>\n",
       "      <td>30.0</td>\n",
       "      <td>1.0</td>\n",
       "      <td>0</td>\n",
       "      <td>11.744045</td>\n",
       "      <td>4576</td>\n",
       "      <td>8.428799</td>\n",
       "      <td>4.200000</td>\n",
       "      <td>376.000000</td>\n",
       "    </tr>\n",
       "    <tr>\n",
       "      <th>2</th>\n",
       "      <td>0</td>\n",
       "      <td>0</td>\n",
       "      <td>2</td>\n",
       "      <td>0</td>\n",
       "      <td>0</td>\n",
       "      <td>5000</td>\n",
       "      <td>1800</td>\n",
       "      <td>208.0</td>\n",
       "      <td>30.0</td>\n",
       "      <td>1.0</td>\n",
       "      <td>0</td>\n",
       "      <td>12.245298</td>\n",
       "      <td>6800</td>\n",
       "      <td>8.824825</td>\n",
       "      <td>6.933333</td>\n",
       "      <td>-133.333333</td>\n",
       "    </tr>\n",
       "    <tr>\n",
       "      <th>3</th>\n",
       "      <td>0</td>\n",
       "      <td>0</td>\n",
       "      <td>2</td>\n",
       "      <td>0</td>\n",
       "      <td>0</td>\n",
       "      <td>2340</td>\n",
       "      <td>2546</td>\n",
       "      <td>100.0</td>\n",
       "      <td>30.0</td>\n",
       "      <td>1.0</td>\n",
       "      <td>0</td>\n",
       "      <td>11.512935</td>\n",
       "      <td>4886</td>\n",
       "      <td>8.494334</td>\n",
       "      <td>3.333333</td>\n",
       "      <td>1552.666667</td>\n",
       "    </tr>\n",
       "    <tr>\n",
       "      <th>4</th>\n",
       "      <td>0</td>\n",
       "      <td>1</td>\n",
       "      <td>0</td>\n",
       "      <td>1</td>\n",
       "      <td>0</td>\n",
       "      <td>3276</td>\n",
       "      <td>0</td>\n",
       "      <td>78.0</td>\n",
       "      <td>30.0</td>\n",
       "      <td>1.0</td>\n",
       "      <td>0</td>\n",
       "      <td>11.264477</td>\n",
       "      <td>3276</td>\n",
       "      <td>8.094684</td>\n",
       "      <td>2.600000</td>\n",
       "      <td>676.000000</td>\n",
       "    </tr>\n",
       "  </tbody>\n",
       "</table>\n",
       "</div>"
      ],
      "text/plain": [
       "   Gender  Married  Dependents  Education  Self_Employed  ApplicantIncome  \\\n",
       "0       0        0           0          0              0             5720   \n",
       "1       0        0           1          0              0             3076   \n",
       "2       0        0           2          0              0             5000   \n",
       "3       0        0           2          0              0             2340   \n",
       "4       0        1           0          1              0             3276   \n",
       "\n",
       "   CoapplicantIncome  LoanAmount  Loan_Amount_Term  Credit_History  \\\n",
       "0                  0       110.0              30.0             1.0   \n",
       "1               1500       126.0              30.0             1.0   \n",
       "2               1800       208.0              30.0             1.0   \n",
       "3               2546       100.0              30.0             1.0   \n",
       "4                  0        78.0              30.0             1.0   \n",
       "\n",
       "   Property_Area  LoanAmount_log  Total_Income  Total_Income_log       EMI  \\\n",
       "0              0       11.608245          5720          8.651899  3.666667   \n",
       "1              0       11.744045          4576          8.428799  4.200000   \n",
       "2              0       12.245298          6800          8.824825  6.933333   \n",
       "3              0       11.512935          4886          8.494334  3.333333   \n",
       "4              0       11.264477          3276          8.094684  2.600000   \n",
       "\n",
       "   Balance Income  \n",
       "0     2053.333333  \n",
       "1      376.000000  \n",
       "2     -133.333333  \n",
       "3     1552.666667  \n",
       "4      676.000000  "
      ]
     },
     "execution_count": 25,
     "metadata": {},
     "output_type": "execute_result"
    }
   ],
   "source": [
    "X_test_data = test.drop([\"Loan_ID\"],axis=1)\n",
    "test_colnames = ['Gender','Married','Education','Self_Employed','Property_Area']\n",
    "for col in test_colnames:\n",
    "    X_test_data[col] = pd.factorize(X_test_data[col])[0] \n",
    "#X_test_data = pd.get_dummies(X_test_data)\n",
    "X_test_data.head()"
   ]
  },
  {
   "cell_type": "markdown",
   "metadata": {},
   "source": [
    "**5. Model Development**"
   ]
  },
  {
   "cell_type": "code",
   "execution_count": 26,
   "metadata": {},
   "outputs": [],
   "source": [
    "from sklearn.ensemble import RandomForestClassifier\n",
    "from sklearn.model_selection import train_test_split\n",
    "from sklearn.metrics import accuracy_score\n",
    "from sklearn.metrics import confusion_matrix\n",
    "from sklearn.linear_model import LogisticRegression\n",
    "from xgboost import XGBClassifier\n",
    "from sklearn.ensemble import AdaBoostClassifier #For Classification\n",
    "from sklearn.tree import DecisionTreeClassifier\n",
    "from sklearn.model_selection import GridSearchCV\n",
    "from sklearn.model_selection import cross_val_score\n",
    "\n",
    "def submission(model,feat):        \n",
    "    Y_pred = model.predict( X_test_data[feat])\n",
    "    Y_df = pd.DataFrame(test['Loan_ID'])\n",
    "    Y_df['Loan_Status'] = Y_pred\n",
    "    loan = {1:'Y',0:'N'}\n",
    "    Y_df['Loan_Status'] = Y_df['Loan_Status'].map(loan)\n",
    "    return Y_df\n",
    "\n",
    "def confusion_matrix_model(model_used,x_test):\n",
    "    cm=confusion_matrix(y_test,model_used.predict(x_test))\n",
    "    col=[\"Predicted Not Approved\",\"Predicted Approved\"]\n",
    "    cm=pd.DataFrame(cm)\n",
    "    cm.columns=[\"Predicted Not Approved\",\"Predicted Approved\"]\n",
    "    cm.index=[\"Actual Not Approved\",\"Actual Approved\"]\n",
    "    cm[col]=np.around(cm[col].div(cm[col].sum(axis=1),axis=0),decimals=2)\n",
    "    return cm\n",
    "\n",
    "x_train,x_test,y_train,y_test=train_test_split(X,y,test_size=0.4,random_state=0)\n",
    "\n",
    "def ModelDevelopement(model,feat):\n",
    "    fit = model.fit(x_train[feat],y_train)\n",
    "    pred = fit.predict(x_test[feat])\n",
    "    print(confusion_matrix_model(log_reg,x_test[feat]))\n",
    "    print(accuracy_score(y_test,pred))\n",
    "    fit2 =  model.fit(X[feat],y)\n",
    "    df = submission(fit2,feat)\n",
    "    return pred,df\n"
   ]
  },
  {
   "cell_type": "code",
   "execution_count": 27,
   "metadata": {},
   "outputs": [
    {
     "name": "stderr",
     "output_type": "stream",
     "text": [
      "/opt/conda/lib/python3.6/site-packages/ipykernel_launcher.py:4: DataConversionWarning: A column-vector y was passed when a 1d array was expected. Please change the shape of y to (n_samples,), for example using ravel().\n",
      "  after removing the cwd from sys.path.\n"
     ]
    },
    {
     "name": "stdout",
     "output_type": "stream",
     "text": [
      "Features sorted by their score:\n"
     ]
    }
   ],
   "source": [
    "# Create a random forest classifier\n",
    "clf = RandomForestClassifier(n_estimators=1000, random_state=0, n_jobs=-1)\n",
    "# Train the classifier\n",
    "clf.fit(X,y)\n",
    "names = X.columns\n",
    "\n",
    "print (\"Features sorted by their score:\")\n",
    "RF_feat = pd.DataFrame(sorted(zip(map(lambda x: round(x, 4), clf.feature_importances_), names),reverse=True))"
   ]
  },
  {
   "cell_type": "code",
   "execution_count": 28,
   "metadata": {},
   "outputs": [
    {
     "data": {
      "text/html": [
       "<div>\n",
       "<style scoped>\n",
       "    .dataframe tbody tr th:only-of-type {\n",
       "        vertical-align: middle;\n",
       "    }\n",
       "\n",
       "    .dataframe tbody tr th {\n",
       "        vertical-align: top;\n",
       "    }\n",
       "\n",
       "    .dataframe thead th {\n",
       "        text-align: right;\n",
       "    }\n",
       "</style>\n",
       "<table border=\"1\" class=\"dataframe\">\n",
       "  <thead>\n",
       "    <tr style=\"text-align: right;\">\n",
       "      <th></th>\n",
       "      <th>0</th>\n",
       "      <th>1</th>\n",
       "    </tr>\n",
       "  </thead>\n",
       "  <tbody>\n",
       "    <tr>\n",
       "      <th>0</th>\n",
       "      <td>0.2512</td>\n",
       "      <td>Credit_History</td>\n",
       "    </tr>\n",
       "    <tr>\n",
       "      <th>1</th>\n",
       "      <td>0.0983</td>\n",
       "      <td>Balance Income</td>\n",
       "    </tr>\n",
       "    <tr>\n",
       "      <th>2</th>\n",
       "      <td>0.0901</td>\n",
       "      <td>Total_Income</td>\n",
       "    </tr>\n",
       "    <tr>\n",
       "      <th>3</th>\n",
       "      <td>0.0894</td>\n",
       "      <td>ApplicantIncome</td>\n",
       "    </tr>\n",
       "    <tr>\n",
       "      <th>4</th>\n",
       "      <td>0.0870</td>\n",
       "      <td>Total_Income_log</td>\n",
       "    </tr>\n",
       "    <tr>\n",
       "      <th>5</th>\n",
       "      <td>0.0725</td>\n",
       "      <td>EMI</td>\n",
       "    </tr>\n",
       "    <tr>\n",
       "      <th>6</th>\n",
       "      <td>0.0660</td>\n",
       "      <td>LoanAmount</td>\n",
       "    </tr>\n",
       "    <tr>\n",
       "      <th>7</th>\n",
       "      <td>0.0655</td>\n",
       "      <td>LoanAmount_log</td>\n",
       "    </tr>\n",
       "    <tr>\n",
       "      <th>8</th>\n",
       "      <td>0.0551</td>\n",
       "      <td>CoapplicantIncome</td>\n",
       "    </tr>\n",
       "    <tr>\n",
       "      <th>9</th>\n",
       "      <td>0.0278</td>\n",
       "      <td>Property_Area</td>\n",
       "    </tr>\n",
       "    <tr>\n",
       "      <th>10</th>\n",
       "      <td>0.0243</td>\n",
       "      <td>Dependents</td>\n",
       "    </tr>\n",
       "    <tr>\n",
       "      <th>11</th>\n",
       "      <td>0.0221</td>\n",
       "      <td>Loan_Amount_Term</td>\n",
       "    </tr>\n",
       "    <tr>\n",
       "      <th>12</th>\n",
       "      <td>0.0161</td>\n",
       "      <td>Married</td>\n",
       "    </tr>\n",
       "    <tr>\n",
       "      <th>13</th>\n",
       "      <td>0.0146</td>\n",
       "      <td>Education</td>\n",
       "    </tr>\n",
       "    <tr>\n",
       "      <th>14</th>\n",
       "      <td>0.0101</td>\n",
       "      <td>Self_Employed</td>\n",
       "    </tr>\n",
       "    <tr>\n",
       "      <th>15</th>\n",
       "      <td>0.0097</td>\n",
       "      <td>Gender</td>\n",
       "    </tr>\n",
       "  </tbody>\n",
       "</table>\n",
       "</div>"
      ],
      "text/plain": [
       "         0                  1\n",
       "0   0.2512     Credit_History\n",
       "1   0.0983     Balance Income\n",
       "2   0.0901       Total_Income\n",
       "3   0.0894    ApplicantIncome\n",
       "4   0.0870   Total_Income_log\n",
       "5   0.0725                EMI\n",
       "6   0.0660         LoanAmount\n",
       "7   0.0655     LoanAmount_log\n",
       "8   0.0551  CoapplicantIncome\n",
       "9   0.0278      Property_Area\n",
       "10  0.0243         Dependents\n",
       "11  0.0221   Loan_Amount_Term\n",
       "12  0.0161            Married\n",
       "13  0.0146          Education\n",
       "14  0.0101      Self_Employed\n",
       "15  0.0097             Gender"
      ]
     },
     "execution_count": 28,
     "metadata": {},
     "output_type": "execute_result"
    }
   ],
   "source": [
    "RF_feat"
   ]
  },
  {
   "cell_type": "markdown",
   "metadata": {},
   "source": [
    "**5.1. Logistic Regression**"
   ]
  },
  {
   "cell_type": "code",
   "execution_count": 29,
   "metadata": {},
   "outputs": [
    {
     "ename": "NameError",
     "evalue": "name 'X_res' is not defined",
     "output_type": "error",
     "traceback": [
      "\u001b[0;31m---------------------------------------------------------------------------\u001b[0m",
      "\u001b[0;31mNameError\u001b[0m                                 Traceback (most recent call last)",
      "\u001b[0;32m<ipython-input-29-b03117fb7387>\u001b[0m in \u001b[0;36m<module>\u001b[0;34m\u001b[0m\n\u001b[0;32m----> 1\u001b[0;31m \u001b[0mpd\u001b[0m\u001b[0;34m.\u001b[0m\u001b[0mDataFrame\u001b[0m\u001b[0;34m(\u001b[0m\u001b[0mX_res\u001b[0m\u001b[0;34m)\u001b[0m\u001b[0;34m\u001b[0m\u001b[0m\n\u001b[0m",
      "\u001b[0;31mNameError\u001b[0m: name 'X_res' is not defined"
     ]
    }
   ],
   "source": [
    "pd.DataFrame(X_res)"
   ]
  },
  {
   "cell_type": "code",
   "execution_count": 30,
   "metadata": {},
   "outputs": [
    {
     "name": "stdout",
     "output_type": "stream",
     "text": [
      "                     Predicted Not Approved  Predicted Approved\n",
      "Actual Not Approved                    0.47                0.53\n",
      "Actual Approved                        0.03                0.97\n",
      "0.8170731707317073\n"
     ]
    },
    {
     "name": "stderr",
     "output_type": "stream",
     "text": [
      "/opt/conda/lib/python3.6/site-packages/sklearn/linear_model/logistic.py:432: FutureWarning: Default solver will be changed to 'lbfgs' in 0.22. Specify a solver to silence this warning.\n",
      "  FutureWarning)\n",
      "/opt/conda/lib/python3.6/site-packages/sklearn/utils/validation.py:724: DataConversionWarning: A column-vector y was passed when a 1d array was expected. Please change the shape of y to (n_samples, ), for example using ravel().\n",
      "  y = column_or_1d(y, warn=True)\n",
      "/opt/conda/lib/python3.6/site-packages/sklearn/linear_model/logistic.py:432: FutureWarning: Default solver will be changed to 'lbfgs' in 0.22. Specify a solver to silence this warning.\n",
      "  FutureWarning)\n",
      "/opt/conda/lib/python3.6/site-packages/sklearn/utils/validation.py:724: DataConversionWarning: A column-vector y was passed when a 1d array was expected. Please change the shape of y to (n_samples, ), for example using ravel().\n",
      "  y = column_or_1d(y, warn=True)\n"
     ]
    },
    {
     "data": {
      "text/html": [
       "<a download=\"data.csv\" href=\"data:text/csv;base64,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\" target=\"_blank\">Download CSV file</a>"
      ],
      "text/plain": [
       "<IPython.core.display.HTML object>"
      ]
     },
     "execution_count": 30,
     "metadata": {},
     "output_type": "execute_result"
    }
   ],
   "source": [
    "feat = [\"Credit_History\",\"Balance Income\",\"ApplicantIncome\",\"Total_Income_log\",\"LoanAmount_log\",\"Property_Area\",\"Dependents\"]\n",
    "#feat = [\"Credit_History\",\"Balance Income\",\"Total_Income\",\"ApplicantIncome\",\"EMI\",\"Dependents\",\"Property_Area_Semiurban\",\"LoanAmount\",\"CoapplicantIncome\"]\n",
    "log_reg=LogisticRegression(C = 4,penalty = 'l2')\n",
    "log_pred,log_sub_df = ModelDevelopement(log_reg,feat)\n",
    "create_download_link(log_sub_df)"
   ]
  },
  {
   "cell_type": "markdown",
   "metadata": {},
   "source": [
    "**5.2. Random Forest**"
   ]
  },
  {
   "cell_type": "code",
   "execution_count": 31,
   "metadata": {},
   "outputs": [
    {
     "name": "stdout",
     "output_type": "stream",
     "text": [
      "{'n_estimators': [200, 400, 600, 800, 1000, 1200, 1400, 1600, 1800, 2000], 'max_features': ['auto', 'sqrt'], 'max_depth': [10, 20, 30, 40, 50, 60, 70, 80, 90, 100, 110, None], 'min_samples_split': [2, 5, 10], 'min_samples_leaf': [1, 2, 4], 'bootstrap': [True, False]}\n"
     ]
    },
    {
     "data": {
      "text/plain": [
       "{'bootstrap': [True, False],\n",
       " 'max_depth': [10, 20, 30, 40, 50, 60, 70, 80, 90, 100, None],\n",
       " 'max_features': ['auto', 'sqrt'],\n",
       " 'min_samples_leaf': [1, 2, 4],\n",
       " 'min_samples_split': [2, 5, 10],\n",
       " 'n_estimators': [200, 400, 600, 800, 1000, 1200, 1400, 1600, 1800, 2000]}"
      ]
     },
     "execution_count": 31,
     "metadata": {},
     "output_type": "execute_result"
    }
   ],
   "source": [
    "from sklearn.model_selection import RandomizedSearchCV\n",
    "# Number of trees in random forest\n",
    "n_estimators = [int(x) for x in np.linspace(start = 200, stop = 2000, num = 10)]\n",
    "# Number of features to consider at every split\n",
    "max_features = ['auto', 'sqrt']\n",
    "# Maximum number of levels in tree\n",
    "max_depth = [int(x) for x in np.linspace(10, 110, num = 11)]\n",
    "max_depth.append(None)\n",
    "# Minimum number of samples required to split a node\n",
    "min_samples_split = [2, 5, 10]\n",
    "# Minimum number of samples required at each leaf node\n",
    "min_samples_leaf = [1, 2, 4]\n",
    "# Method of selecting samples for training each tree\n",
    "bootstrap = [True, False]\n",
    "# Create the random grid\n",
    "random_grid = {'n_estimators': n_estimators,\n",
    "               'max_features': max_features,\n",
    "               'max_depth': max_depth,\n",
    "               'min_samples_split': min_samples_split,\n",
    "               'min_samples_leaf': min_samples_leaf,\n",
    "               'bootstrap': bootstrap}\n",
    "print(random_grid)\n",
    "{'bootstrap': [True, False],\n",
    " 'max_depth': [10, 20, 30, 40, 50, 60, 70, 80, 90, 100, None],\n",
    " 'max_features': ['auto', 'sqrt'],\n",
    " 'min_samples_leaf': [1, 2, 4],\n",
    " 'min_samples_split': [2, 5, 10],\n",
    " 'n_estimators': [200, 400, 600, 800, 1000, 1200, 1400, 1600, 1800, 2000]}"
   ]
  },
  {
   "cell_type": "code",
   "execution_count": 32,
   "metadata": {},
   "outputs": [
    {
     "name": "stdout",
     "output_type": "stream",
     "text": [
      "Fitting 3 folds for each of 100 candidates, totalling 300 fits\n"
     ]
    },
    {
     "name": "stderr",
     "output_type": "stream",
     "text": [
      "[Parallel(n_jobs=-1)]: Using backend LokyBackend with 4 concurrent workers.\n",
      "[Parallel(n_jobs=-1)]: Done  33 tasks      | elapsed:   21.4s\n",
      "[Parallel(n_jobs=-1)]: Done 154 tasks      | elapsed:  1.4min\n",
      "[Parallel(n_jobs=-1)]: Done 300 out of 300 | elapsed:  2.7min finished\n",
      "/opt/conda/lib/python3.6/site-packages/sklearn/model_selection/_search.py:715: DataConversionWarning: A column-vector y was passed when a 1d array was expected. Please change the shape of y to (n_samples,), for example using ravel().\n",
      "  self.best_estimator_.fit(X, y, **fit_params)\n"
     ]
    },
    {
     "data": {
      "text/plain": [
       "RandomizedSearchCV(cv=3, error_score='raise-deprecating',\n",
       "                   estimator=RandomForestClassifier(bootstrap=True,\n",
       "                                                    class_weight=None,\n",
       "                                                    criterion='gini',\n",
       "                                                    max_depth=None,\n",
       "                                                    max_features='auto',\n",
       "                                                    max_leaf_nodes=None,\n",
       "                                                    min_impurity_decrease=0.0,\n",
       "                                                    min_impurity_split=None,\n",
       "                                                    min_samples_leaf=1,\n",
       "                                                    min_samples_split=2,\n",
       "                                                    min_weight_fraction_leaf=0.0,\n",
       "                                                    n_estimators='warn',\n",
       "                                                    n_jobs=None,\n",
       "                                                    oob_sc...\n",
       "                   param_distributions={'bootstrap': [True, False],\n",
       "                                        'max_depth': [10, 20, 30, 40, 50, 60,\n",
       "                                                      70, 80, 90, 100, 110,\n",
       "                                                      None],\n",
       "                                        'max_features': ['auto', 'sqrt'],\n",
       "                                        'min_samples_leaf': [1, 2, 4],\n",
       "                                        'min_samples_split': [2, 5, 10],\n",
       "                                        'n_estimators': [200, 400, 600, 800,\n",
       "                                                         1000, 1200, 1400, 1600,\n",
       "                                                         1800, 2000]},\n",
       "                   pre_dispatch='2*n_jobs', random_state=42, refit=True,\n",
       "                   return_train_score=False, scoring=None, verbose=2)"
      ]
     },
     "execution_count": 32,
     "metadata": {},
     "output_type": "execute_result"
    }
   ],
   "source": [
    "# Use the random grid to search for best hyperparameters\n",
    "# First create the base model to tune\n",
    "rf = RandomForestClassifier()\n",
    "# Random search of parameters, using 3 fold cross validation, \n",
    "# search across 100 different combinations, and use all available cores\n",
    "rf_random = RandomizedSearchCV(estimator = rf, param_distributions = random_grid, n_iter = 100, cv = 3, verbose=2, random_state=42, n_jobs = -1)\n",
    "# Fit the random search model\n",
    "rf_random.fit(x_train[feat], y_train)"
   ]
  },
  {
   "cell_type": "code",
   "execution_count": 33,
   "metadata": {},
   "outputs": [
    {
     "data": {
      "text/plain": [
       "{'n_estimators': 1000,\n",
       " 'min_samples_split': 5,\n",
       " 'min_samples_leaf': 2,\n",
       " 'max_features': 'sqrt',\n",
       " 'max_depth': 20,\n",
       " 'bootstrap': True}"
      ]
     },
     "execution_count": 33,
     "metadata": {},
     "output_type": "execute_result"
    }
   ],
   "source": [
    "rf_random.best_params_"
   ]
  },
  {
   "cell_type": "code",
   "execution_count": 34,
   "metadata": {},
   "outputs": [
    {
     "name": "stderr",
     "output_type": "stream",
     "text": [
      "/opt/conda/lib/python3.6/site-packages/ipykernel_launcher.py:32: DataConversionWarning: A column-vector y was passed when a 1d array was expected. Please change the shape of y to (n_samples,), for example using ravel().\n"
     ]
    },
    {
     "name": "stdout",
     "output_type": "stream",
     "text": [
      "                     Predicted Not Approved  Predicted Approved\n",
      "Actual Not Approved                    0.47                0.53\n",
      "Actual Approved                        0.02                0.98\n",
      "0.8211382113821138\n"
     ]
    },
    {
     "name": "stderr",
     "output_type": "stream",
     "text": [
      "/opt/conda/lib/python3.6/site-packages/ipykernel_launcher.py:36: DataConversionWarning: A column-vector y was passed when a 1d array was expected. Please change the shape of y to (n_samples,), for example using ravel().\n"
     ]
    },
    {
     "data": {
      "text/html": [
       "<a download=\"data.csv\" href=\"data:text/csv;base64,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\" target=\"_blank\">Download CSV file</a>"
      ],
      "text/plain": [
       "<IPython.core.display.HTML object>"
      ]
     },
     "execution_count": 34,
     "metadata": {},
     "output_type": "execute_result"
    }
   ],
   "source": [
    "RF = RandomForestClassifier(n_estimators = 800,min_samples_split = 10, random_state = 0, n_jobs = -1,min_samples_leaf = 4,max_depth = 50,max_features = 'sqrt',bootstrap = 'True') \n",
    "RF_pred,RF_sub_df = ModelDevelopement(RF,feat)\n",
    "create_download_link(RF_sub_df)"
   ]
  },
  {
   "cell_type": "markdown",
   "metadata": {},
   "source": [
    "**5.3 XGBoost**"
   ]
  },
  {
   "cell_type": "code",
   "execution_count": 35,
   "metadata": {},
   "outputs": [
    {
     "name": "stdout",
     "output_type": "stream",
     "text": [
      "                     Predicted Not Approved  Predicted Approved\n",
      "Actual Not Approved                    0.47                0.53\n",
      "Actual Approved                        0.02                0.98\n",
      "0.8008130081300813\n"
     ]
    },
    {
     "name": "stderr",
     "output_type": "stream",
     "text": [
      "/opt/conda/lib/python3.6/site-packages/sklearn/preprocessing/label.py:219: DataConversionWarning: A column-vector y was passed when a 1d array was expected. Please change the shape of y to (n_samples, ), for example using ravel().\n",
      "  y = column_or_1d(y, warn=True)\n",
      "/opt/conda/lib/python3.6/site-packages/sklearn/preprocessing/label.py:252: DataConversionWarning: A column-vector y was passed when a 1d array was expected. Please change the shape of y to (n_samples, ), for example using ravel().\n",
      "  y = column_or_1d(y, warn=True)\n",
      "/opt/conda/lib/python3.6/site-packages/sklearn/preprocessing/label.py:219: DataConversionWarning: A column-vector y was passed when a 1d array was expected. Please change the shape of y to (n_samples, ), for example using ravel().\n",
      "  y = column_or_1d(y, warn=True)\n",
      "/opt/conda/lib/python3.6/site-packages/sklearn/preprocessing/label.py:252: DataConversionWarning: A column-vector y was passed when a 1d array was expected. Please change the shape of y to (n_samples, ), for example using ravel().\n",
      "  y = column_or_1d(y, warn=True)\n"
     ]
    },
    {
     "data": {
      "text/html": [
       "<a download=\"data.csv\" href=\"data:text/csv;base64,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\" target=\"_blank\">Download CSV file</a>"
      ],
      "text/plain": [
       "<IPython.core.display.HTML object>"
      ]
     },
     "execution_count": 35,
     "metadata": {},
     "output_type": "execute_result"
    }
   ],
   "source": [
    "xgb = XGBClassifier(n_estimators=35, max_depth=3,learning_rate = 0.1)\n",
    "xgb_pred,xgb_sub_df = ModelDevelopement(xgb,feat)\n",
    "create_download_link(xgb_sub_df)"
   ]
  },
  {
   "cell_type": "markdown",
   "metadata": {},
   "source": [
    "**5.4 AdaBoost Classifier**"
   ]
  },
  {
   "cell_type": "code",
   "execution_count": 36,
   "metadata": {},
   "outputs": [
    {
     "name": "stdout",
     "output_type": "stream",
     "text": [
      "                     Predicted Not Approved  Predicted Approved\n",
      "Actual Not Approved                    0.47                0.53\n",
      "Actual Approved                        0.02                0.98\n",
      "0.6910569105691057\n"
     ]
    },
    {
     "name": "stderr",
     "output_type": "stream",
     "text": [
      "/opt/conda/lib/python3.6/site-packages/sklearn/utils/validation.py:724: DataConversionWarning: A column-vector y was passed when a 1d array was expected. Please change the shape of y to (n_samples, ), for example using ravel().\n",
      "  y = column_or_1d(y, warn=True)\n",
      "/opt/conda/lib/python3.6/site-packages/sklearn/utils/validation.py:724: DataConversionWarning: A column-vector y was passed when a 1d array was expected. Please change the shape of y to (n_samples, ), for example using ravel().\n",
      "  y = column_or_1d(y, warn=True)\n"
     ]
    },
    {
     "data": {
      "text/html": [
       "<a download=\"data.csv\" href=\"data:text/csv;base64,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\" target=\"_blank\">Download CSV file</a>"
      ],
      "text/plain": [
       "<IPython.core.display.HTML object>"
      ]
     },
     "execution_count": 36,
     "metadata": {},
     "output_type": "execute_result"
    }
   ],
   "source": [
    "\n",
    "dt = DecisionTreeClassifier() \n",
    "adB = AdaBoostClassifier(n_estimators=300, base_estimator=dt,learning_rate=0.1) \n",
    "adB_pred,adB_sub_df = ModelDevelopement(adB,feat)\n",
    "create_download_link(adB_sub_df)"
   ]
  },
  {
   "cell_type": "markdown",
   "metadata": {},
   "source": [
    "**5.5 Support Vectore Machine**"
   ]
  },
  {
   "cell_type": "code",
   "execution_count": 37,
   "metadata": {},
   "outputs": [
    {
     "name": "stderr",
     "output_type": "stream",
     "text": [
      "/opt/conda/lib/python3.6/site-packages/sklearn/utils/validation.py:724: DataConversionWarning: A column-vector y was passed when a 1d array was expected. Please change the shape of y to (n_samples, ), for example using ravel().\n",
      "  y = column_or_1d(y, warn=True)\n"
     ]
    },
    {
     "name": "stdout",
     "output_type": "stream",
     "text": [
      "                     Predicted Not Approved  Predicted Approved\n",
      "Actual Not Approved                    0.47                0.53\n",
      "Actual Approved                        0.02                0.98\n",
      "0.8130081300813008\n"
     ]
    },
    {
     "name": "stderr",
     "output_type": "stream",
     "text": [
      "/opt/conda/lib/python3.6/site-packages/sklearn/utils/validation.py:724: DataConversionWarning: A column-vector y was passed when a 1d array was expected. Please change the shape of y to (n_samples, ), for example using ravel().\n",
      "  y = column_or_1d(y, warn=True)\n"
     ]
    },
    {
     "data": {
      "text/html": [
       "<a download=\"data.csv\" href=\"data:text/csv;base64,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\" target=\"_blank\">Download CSV file</a>"
      ],
      "text/plain": [
       "<IPython.core.display.HTML object>"
      ]
     },
     "execution_count": 37,
     "metadata": {},
     "output_type": "execute_result"
    }
   ],
   "source": [
    "from sklearn import svm\n",
    " \n",
    "svm = svm.SVC(kernel='linear', C=1, gamma=1) \n",
    "svm_pred,svm_sub_df = ModelDevelopement(svm,feat)\n",
    "create_download_link(svm_sub_df)"
   ]
  },
  {
   "cell_type": "code",
   "execution_count": 38,
   "metadata": {},
   "outputs": [],
   "source": [
    "import sklearn.exceptions"
   ]
  },
  {
   "cell_type": "code",
   "execution_count": 39,
   "metadata": {},
   "outputs": [
    {
     "name": "stderr",
     "output_type": "stream",
     "text": [
      "/opt/conda/lib/python3.6/site-packages/mlxtend/classifier/stacking_classification.py:161: DataConversionWarning: A column-vector y was passed when a 1d array was expected. Please change the shape of y to (n_samples,), for example using ravel().\n",
      "  clf.fit(X, y)\n",
      "/opt/conda/lib/python3.6/site-packages/sklearn/preprocessing/label.py:219: DataConversionWarning: A column-vector y was passed when a 1d array was expected. Please change the shape of y to (n_samples, ), for example using ravel().\n",
      "  y = column_or_1d(y, warn=True)\n",
      "/opt/conda/lib/python3.6/site-packages/sklearn/preprocessing/label.py:252: DataConversionWarning: A column-vector y was passed when a 1d array was expected. Please change the shape of y to (n_samples, ), for example using ravel().\n",
      "  y = column_or_1d(y, warn=True)\n",
      "/opt/conda/lib/python3.6/site-packages/sklearn/linear_model/logistic.py:432: FutureWarning: Default solver will be changed to 'lbfgs' in 0.22. Specify a solver to silence this warning.\n",
      "  FutureWarning)\n",
      "/opt/conda/lib/python3.6/site-packages/sklearn/utils/validation.py:724: DataConversionWarning: A column-vector y was passed when a 1d array was expected. Please change the shape of y to (n_samples, ), for example using ravel().\n",
      "  y = column_or_1d(y, warn=True)\n"
     ]
    },
    {
     "name": "stdout",
     "output_type": "stream",
     "text": [
      "                     Predicted Not Approved  Predicted Approved\n",
      "Actual Not Approved                    0.47                0.53\n",
      "Actual Approved                        0.02                0.98\n",
      "0.8130081300813008\n"
     ]
    },
    {
     "name": "stderr",
     "output_type": "stream",
     "text": [
      "/opt/conda/lib/python3.6/site-packages/mlxtend/classifier/stacking_classification.py:161: DataConversionWarning: A column-vector y was passed when a 1d array was expected. Please change the shape of y to (n_samples,), for example using ravel().\n",
      "  clf.fit(X, y)\n",
      "/opt/conda/lib/python3.6/site-packages/sklearn/preprocessing/label.py:219: DataConversionWarning: A column-vector y was passed when a 1d array was expected. Please change the shape of y to (n_samples, ), for example using ravel().\n",
      "  y = column_or_1d(y, warn=True)\n",
      "/opt/conda/lib/python3.6/site-packages/sklearn/preprocessing/label.py:252: DataConversionWarning: A column-vector y was passed when a 1d array was expected. Please change the shape of y to (n_samples, ), for example using ravel().\n",
      "  y = column_or_1d(y, warn=True)\n",
      "/opt/conda/lib/python3.6/site-packages/sklearn/linear_model/logistic.py:432: FutureWarning: Default solver will be changed to 'lbfgs' in 0.22. Specify a solver to silence this warning.\n",
      "  FutureWarning)\n",
      "/opt/conda/lib/python3.6/site-packages/sklearn/utils/validation.py:724: DataConversionWarning: A column-vector y was passed when a 1d array was expected. Please change the shape of y to (n_samples, ), for example using ravel().\n",
      "  y = column_or_1d(y, warn=True)\n"
     ]
    },
    {
     "data": {
      "text/html": [
       "<a download=\"data.csv\" href=\"data:text/csv;base64,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\" target=\"_blank\">Download CSV file</a>"
      ],
      "text/plain": [
       "<IPython.core.display.HTML object>"
      ]
     },
     "execution_count": 39,
     "metadata": {},
     "output_type": "execute_result"
    }
   ],
   "source": [
    "from mlxtend.classifier import StackingClassifier\n",
    "from sklearn.pipeline import make_pipeline\n",
    "from sklearn.preprocessing import StandardScaler\n",
    "from sklearn.svm import LinearSVC\n",
    "\n",
    "estimators = [('rf', RandomForestClassifier(n_estimators=10, random_state=42)),('svr', make_pipeline(StandardScaler(),LinearSVC(random_state=42)))]\n",
    "stack = StackingClassifier(classifiers=[RF, xgb],meta_classifier=log_reg)\n",
    "stack_pred,stack_sub_df = ModelDevelopement(stack,feat)\n",
    "create_download_link(stack_sub_df)"
   ]
  },
  {
   "cell_type": "markdown",
   "metadata": {},
   "source": [
    "**5.6 Ensemble Methods**"
   ]
  },
  {
   "cell_type": "code",
   "execution_count": 40,
   "metadata": {},
   "outputs": [
    {
     "name": "stderr",
     "output_type": "stream",
     "text": [
      "/opt/conda/lib/python3.6/site-packages/sklearn/preprocessing/label.py:219: DataConversionWarning: A column-vector y was passed when a 1d array was expected. Please change the shape of y to (n_samples, ), for example using ravel().\n",
      "  y = column_or_1d(y, warn=True)\n",
      "/opt/conda/lib/python3.6/site-packages/sklearn/preprocessing/label.py:252: DataConversionWarning: A column-vector y was passed when a 1d array was expected. Please change the shape of y to (n_samples, ), for example using ravel().\n",
      "  y = column_or_1d(y, warn=True)\n",
      "/opt/conda/lib/python3.6/site-packages/sklearn/linear_model/logistic.py:432: FutureWarning: Default solver will be changed to 'lbfgs' in 0.22. Specify a solver to silence this warning.\n",
      "  FutureWarning)\n",
      "/opt/conda/lib/python3.6/site-packages/sklearn/preprocessing/label.py:252: DataConversionWarning: A column-vector y was passed when a 1d array was expected. Please change the shape of y to (n_samples, ), for example using ravel().\n",
      "  y = column_or_1d(y, warn=True)\n"
     ]
    },
    {
     "name": "stdout",
     "output_type": "stream",
     "text": [
      "                     Predicted Not Approved  Predicted Approved\n",
      "Actual Not Approved                    0.47                0.53\n",
      "Actual Approved                        0.02                0.98\n",
      "0.8211382113821138\n"
     ]
    },
    {
     "name": "stderr",
     "output_type": "stream",
     "text": [
      "/opt/conda/lib/python3.6/site-packages/sklearn/preprocessing/label.py:219: DataConversionWarning: A column-vector y was passed when a 1d array was expected. Please change the shape of y to (n_samples, ), for example using ravel().\n",
      "  y = column_or_1d(y, warn=True)\n",
      "/opt/conda/lib/python3.6/site-packages/sklearn/preprocessing/label.py:252: DataConversionWarning: A column-vector y was passed when a 1d array was expected. Please change the shape of y to (n_samples, ), for example using ravel().\n",
      "  y = column_or_1d(y, warn=True)\n",
      "/opt/conda/lib/python3.6/site-packages/sklearn/linear_model/logistic.py:432: FutureWarning: Default solver will be changed to 'lbfgs' in 0.22. Specify a solver to silence this warning.\n",
      "  FutureWarning)\n",
      "/opt/conda/lib/python3.6/site-packages/sklearn/preprocessing/label.py:252: DataConversionWarning: A column-vector y was passed when a 1d array was expected. Please change the shape of y to (n_samples, ), for example using ravel().\n",
      "  y = column_or_1d(y, warn=True)\n"
     ]
    },
    {
     "data": {
      "text/html": [
       "<a download=\"data.csv\" href=\"data:text/csv;base64,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\" target=\"_blank\">Download CSV file</a>"
      ],
      "text/plain": [
       "<IPython.core.display.HTML object>"
      ]
     },
     "execution_count": 40,
     "metadata": {},
     "output_type": "execute_result"
    }
   ],
   "source": [
    "from sklearn import model_selection\n",
    "from mlxtend.classifier import EnsembleVoteClassifier\n",
    "\n",
    "eclf = EnsembleVoteClassifier(clfs=[log_reg,xgb,RF], weights=[1,1,1])\n",
    "eclf_pred,eclf_sub_df = ModelDevelopement(eclf,feat)\n",
    "create_download_link(svm_sub_df)"
   ]
  },
  {
   "cell_type": "code",
   "execution_count": 41,
   "metadata": {},
   "outputs": [
    {
     "name": "stdout",
     "output_type": "stream",
     "text": [
      "0.8211382113821138\n",
      "[[ 36  39]\n",
      " [  5 166]]\n"
     ]
    }
   ],
   "source": [
    "final_pred = 0.3*log_pred+ 0.1*adB_pred+0.4*RF_pred+0.2*xgb_pred\n",
    "for i in range(len(final_pred)):\n",
    "    if(final_pred[i]  < 0.5):\n",
    "        final_pred[i] = 0\n",
    "    else:\n",
    "        final_pred[i]= 1\n",
    "print(accuracy_score(y_test,final_pred))\n",
    "print(confusion_matrix(y_test,final_pred))"
   ]
  },
  {
   "cell_type": "code",
   "execution_count": null,
   "metadata": {},
   "outputs": [],
   "source": []
  }
 ],
 "metadata": {
  "kernelspec": {
   "display_name": "Python 3",
   "language": "python",
   "name": "python3"
  },
  "language_info": {
   "codemirror_mode": {
    "name": "ipython",
    "version": 3
   },
   "file_extension": ".py",
   "mimetype": "text/x-python",
   "name": "python",
   "nbconvert_exporter": "python",
   "pygments_lexer": "ipython3",
   "version": "3.6.6"
  }
 },
 "nbformat": 4,
 "nbformat_minor": 1
}
